{
 "cells": [
  {
   "cell_type": "code",
   "execution_count": null,
   "metadata": {
    "collapsed": true
   },
   "outputs": [],
   "source": [
    "#Aadhar Linking\n",
    "#Representing Data and Engineering Features: We will get categorical(discrete) features for columns like occupation¶\n",
    "#https://www.safaribooksonline.com/library/view/introduction-to-machine/9781449369880/ch04.html\n"
   ]
  },
  {
   "cell_type": "code",
   "execution_count": 1,
   "metadata": {
    "collapsed": true
   },
   "outputs": [],
   "source": [
    "import numpy as np\n",
    "import pandas as pd\n",
    "from sklearn.linear_model import LogisticRegression\n",
    "from sklearn.model_selection import train_test_split\n",
    "from sklearn.metrics import confusion_matrix\n",
    "from sklearn.metrics import accuracy_score\n",
    "from sklearn import model_selection\n",
    "from sklearn.metrics import zero_one_loss\n",
    "import matplotlib.pyplot as plt\n",
    "from sklearn.ensemble import RandomForestClassifier"
   ]
  },
  {
   "cell_type": "code",
   "execution_count": 2,
   "metadata": {
    "collapsed": true
   },
   "outputs": [],
   "source": [
    "def getInOut():\n",
    "    dataset = pd.read_csv('/Users/rajeshgudikoti/Documents/learning/UIDAI/samplevoterlist/sample1_voterlist.csv',dtype={'Age': np.int32}\n",
    "                     #,names=['VoterID', 'Name','Father Name', 'Age', 'Gender',  'AadharLinked']\n",
    "                     );\n",
    "    print(dataset.shape);\n",
    "    # data required for feature set\n",
    "    dataset = dataset[['Age', 'Gender','Occupation','Income','AadharLinked']]\n",
    "    #(dataset.head());\n",
    "    df = pd.DataFrame(dataset);\n",
    "    print(dataset.head())\n",
    "    \n",
    "    #print('\\n***********\\n',dataset.Gender[1:,].value_counts())\n",
    "    #print('\\n***********\\n',(df.loc[1:,'Gender']).value_counts())\n",
    "\n",
    "    print(\"Original features:\\n\", list(dataset.columns), \"\\n\")\n",
    "    dataset_dummies = pd.get_dummies(dataset)\n",
    "    print(\"Features after get_dummies:\\n\", list(dataset_dummies.columns))\n",
    "    \n",
    "    #dataset_dummies = dataset_dummies.loc[:, ['Age', 'Gender_F', 'Gender_M']]\n",
    "    #print(\"Features after trimming:\\n\", list(dataset_dummies))\n",
    "    dataset_dummies.head()\n",
    "    #features = dataset_dummies.loc[:, ['Age', 'Gender_F', 'Gender_M']] # X.shape: (1097, 3)\n",
    "    features = dataset_dummies.loc[:, ['Age', 'Gender_F', 'Gender_M','Occupation_Business', 'Occupation_Govt', \n",
    "                                       'Occupation_Housewife', 'Occupation_Software', 'Income_0-10k', \n",
    "                                       'Income_11k-20k', 'Income_21k-30k', 'Income_31k-50k', 'Income_50k Above']]\n",
    "    # Extract NumPy arrays\n",
    "    X = features.values\n",
    "    #print('\\n \\n *********** \\n', X[1:10,:])\n",
    "    y = dataset_dummies['AadharLinked'].values\n",
    "    print(\"X.shape: {}  y.shape: {}\".format(X.shape, y.shape))\n",
    "    #print('dataset_dummies ',type(dataset_dummies))\n",
    "    \n",
    "\n",
    "    return (X,y,dataset,dataset_dummies)\n",
    "\n",
    "#print(getInOut())"
   ]
  },
  {
   "cell_type": "code",
   "execution_count": 3,
   "metadata": {
    "collapsed": true
   },
   "outputs": [],
   "source": [
    "def perf_measure(y_actual, y_hat):\n",
    "    TP = 0\n",
    "    FP = 0\n",
    "    TN = 0\n",
    "    FN = 0\n",
    "\n",
    "    for i in range(len(y_hat)): \n",
    "        if y_actual[i]==y_hat[i]==1:\n",
    "           TP += 1\n",
    "    for i in range(len(y_hat)):\n",
    "        if y_hat[i]==1 and y_actual[i]!=y_hat[i]:\n",
    "           FP += 1\n",
    "    for i in range(len(y_hat)): \n",
    "        if y_actual[i]==y_hat[i]==0:\n",
    "           TN += 1\n",
    "    for i in range(len(y_hat)): \n",
    "        if y_hat[i]==0 and y_actual[i]!=y_hat[i]:\n",
    "           FN += 1\n",
    "    return(TP, FP, TN, FN)"
   ]
  },
  {
   "cell_type": "code",
   "execution_count": 4,
   "metadata": {
    "collapsed": true
   },
   "outputs": [],
   "source": [
    "def visulaization(X_validation, predictions):\n",
    "    fig,ax = plt.subplots(figsize=(12,4));\n",
    "    X_input = X_validation[:,0]\n",
    "    #print('X_input ',X_input)\n",
    "    print(X_input.shape, predictions.shape)\n",
    "    ax.plot(X_input,predictions,'b',label='Aadhar Linking')\n",
    "    ax.set_title('Testing')\n",
    "    ax.scatter(X_input,predictions)\n",
    "    ax.set_xlabel('X-Age')\n",
    "    ax.set_ylabel('Aadharlinked')\n",
    "    #plt.show()\n",
    "\n",
    "    fig = plt.figure()\n",
    "    fig.add_subplot(241)\n",
    "    plt.plot(X_validation[:,0],predictions,'bo')\n",
    "    plt.xlabel('Age')\n",
    "    plt.ylabel('Aadharlinked')\n",
    "\n",
    "    fig.add_subplot(242)\n",
    "    plt.plot(X_validation[:,1],predictions,'go')\n",
    "    plt.xlabel('Gender')\n",
    "    plt.ylabel('Aadharlinked')\n",
    "\n",
    "    fig.add_subplot(243)\n",
    "    plt.plot(X_validation[:,2],predictions,'ro')\n",
    "    plt.xlabel('Occupation')\n",
    "    plt.ylabel('Aadharlinked')\n",
    "\n",
    "    fig.add_subplot(244)\n",
    "    plt.plot(X_validation[:,3],predictions,'bo')\n",
    "    plt.xlabel('Income')\n",
    "    plt.ylabel('Aadharlinked')\n",
    "\n",
    "    plt.show()"
   ]
  },
  {
   "cell_type": "code",
   "execution_count": 12,
   "metadata": {},
   "outputs": [
    {
     "name": "stdout",
     "output_type": "stream",
     "text": [
      "(1097, 9)\n",
      "   Age Gender Occupation     Income  AadharLinked\n",
      "0   96      F   Business    31k-50k             1\n",
      "1   71      F       Govt    21k-30k             0\n",
      "2   94      F   Business  50k Above             0\n",
      "3   97      F       Govt    31k-50k             1\n",
      "4   40      F       Govt    31k-50k             0\n",
      "Original features:\n",
      " ['Age', 'Gender', 'Occupation', 'Income', 'AadharLinked'] \n",
      "\n",
      "Features after get_dummies:\n",
      " ['Age', 'AadharLinked', 'Gender_F', 'Gender_M', 'Occupation_Business', 'Occupation_Govt', 'Occupation_Housewife', 'Occupation_Software', 'Income_0-10k', 'Income_11k-20k', 'Income_21k-30k', 'Income_31k-50k', 'Income_50k Above']\n",
      "X.shape: (1097, 12)  y.shape: (1097,)\n",
      "Test score: 0.77\n",
      "\n",
      " confusion_matrix \n",
      " [[138  31]\n",
      " [ 39  12]]\n",
      "\n",
      " accuracy  0.681818181818\n",
      "percentage of loss  0.318181818182\n",
      "no. of wrong items FP+FN 70\n",
      "TP, FP, TN, FN\n"
     ]
    },
    {
     "data": {
      "image/png": "[encoded data removed]",
      "text/plain": [
       "<matplotlib.figure.Figure at 0x1175e5978>"
      ]
     },
     "metadata": {},
     "output_type": "display_data"
    }
   ],
   "source": [
    "X,y,dataset,dataset_cat_dummies = getInOut();\n",
    "validation_size = 0.20\n",
    "#seed = 7\n",
    "#X_train, X_test, y_train, y_test = train_test_split(X, y, random_state=0)\n",
    "X_train, X_validation, y_train, y_validation = model_selection.train_test_split(X, y, test_size=validation_size, random_state=0)\n",
    "\n",
    "#print('\\n******* X_validation[:,2] \\n',X_validation[:,2]);\n",
    "\n",
    "logreg = LogisticRegression()\n",
    "logreg.fit(X_train, y_train)\n",
    "\n",
    "print(\"Test score: {:.2f}\".format(logreg.score(X_validation, y_validation)))\n",
    "\n",
    "classifier = RandomForestClassifier(n_estimators=15)\n",
    "rfc = classifier.fit(X_train,y_train)\n",
    "\n",
    "predictions = rfc.predict(X_validation)\n",
    "#print('**************\\n',predictions);\n",
    "\n",
    "cm = confusion_matrix(y_validation,predictions)\n",
    "accuracy = accuracy_score(y_validation,predictions)\n",
    "print('\\n confusion_matrix \\n',cm)\n",
    "print('\\n accuracy ',accuracy)\n",
    "\n",
    "correct_indices = []\n",
    "\n",
    "for i in range(len(predictions)):\n",
    "    if(predictions[i]==y_validation[i]==True or predictions[i]==y_validation[i]==False ):\n",
    "        #print('\\n index ', i, ' predictions[i]', predictions[i],' y_validation[i] ', y_validation[i])\n",
    "       correct_indices.append(i)\n",
    "#print('\\n correct_indices \\n',correct_indices);\n",
    "\n",
    "print('percentage of loss ',zero_one_loss(predictions,y_validation)) # percentage of loss\n",
    "print('no. of wrong items FP+FN',zero_one_loss(predictions,y_validation,normalize=False)) # no. of wrong items # FP+FN\n",
    "print('TP, FP, TN, FN')\n",
    "perf_measure(y_validation,predictions) # returns (TP, FP, TN, FN) \n",
    "#visulaization(X_validation,predictions)\n",
    "new_df = convertToDataFrame(X_validation,predictions)\n",
    "visualizeBarGraph(new_df)"
   ]
  },
  {
   "cell_type": "code",
   "execution_count": 7,
   "metadata": {
    "collapsed": true
   },
   "outputs": [],
   "source": [
    "# convert ndarray to dataframe and assign column headers\n",
    "def convertToDataFrame(X_validation,predictions):\n",
    "    z = np.column_stack((X_validation,predictions))\n",
    "    new_col_list = []\n",
    "    #print(list(dataset_cat_dummies))\n",
    "    new_col_list = list(dataset_cat_dummies)\n",
    "    new_col_list.append('y_predict')\n",
    "    new_col_list.remove('AadharLinked')\n",
    "    #print(new_col_list)\n",
    "    new_df = pd.DataFrame.from_records(z,columns=new_col_list)\n",
    "    #print(new_df.head(5))\n",
    "    return new_df"
   ]
  },
  {
   "cell_type": "code",
   "execution_count": 11,
   "metadata": {},
   "outputs": [],
   "source": [
    "def visualizeBarGraph(new_df):\n",
    "    new_df = new_df.head(5)\n",
    "    for column in new_df:\n",
    "        new_df['Income_0-10k'].value_counts().plot(kind='bar')\n",
    "    plt.xlabel('Income_0-10k')\n",
    "    plt.ylabel(\"Number of records\")\n",
    "    plt.show()"
   ]
  },
  {
   "cell_type": "code",
   "execution_count": 6,
   "metadata": {},
   "outputs": [
    {
     "name": "stdout",
     "output_type": "stream",
     "text": [
      "(1097, 9)\n",
      "   Age Gender Occupation     Income  AadharLinked\n",
      "0   96      F   Business    31k-50k             1\n",
      "1   71      F       Govt    21k-30k             0\n",
      "2   94      F   Business  50k Above             0\n",
      "3   97      F       Govt    31k-50k             1\n",
      "4   40      F       Govt    31k-50k             0\n",
      "Original features:\n",
      " ['Age', 'Gender', 'Occupation', 'Income', 'AadharLinked'] \n",
      "\n",
      "Features after get_dummies:\n",
      " ['Age', 'AadharLinked', 'Gender_F', 'Gender_M', 'Occupation_Business', 'Occupation_Govt', 'Occupation_Housewife', 'Occupation_Software', 'Income_0-10k', 'Income_11k-20k', 'Income_21k-30k', 'Income_31k-50k', 'Income_50k Above']\n",
      "X.shape: (1097, 12)  y.shape: (1097,)\n",
      "X[1:5] :  [[71  1  0  0  1  0  0  0  0  1  0  0]\n",
      " [94  1  0  1  0  0  0  0  0  0  0  1]\n",
      " [97  1  0  0  1  0  0  0  0  0  1  0]\n",
      " [40  1  0  0  1  0  0  0  0  0  1  0]]\n",
      "dbtype:  <class 'numpy.ndarray'> <class 'numpy.ndarray'> <class 'pandas.core.frame.DataFrame'>\n",
      "Gender_M  Gender_F\n",
      "0         1           529\n",
      "1         0           568\n",
      "dtype: int64\n",
      "shape  (220, 12) (220,) \n",
      " [39  0  1  0  0  0  1  0  0  1  0  0] \n",
      " [82  0  1  0  0  1  0  0  0  0  0  1]\n",
      "(220, 12) (220,)\n",
      "(220, 13) \n",
      " [39  0  1  0  0  0  1  0  0  1  0  0  0] \n",
      " [82  0  1  0  0  1  0  0  0  0  0  1  0]\n",
      "['Age', 'AadharLinked', 'Gender_F', 'Gender_M', 'Occupation_Business', 'Occupation_Govt', 'Occupation_Housewife', 'Occupation_Software', 'Income_0-10k', 'Income_11k-20k', 'Income_21k-30k', 'Income_31k-50k', 'Income_50k Above']\n",
      "['Age', 'Gender_F', 'Gender_M', 'Occupation_Business', 'Occupation_Govt', 'Occupation_Housewife', 'Occupation_Software', 'Income_0-10k', 'Income_11k-20k', 'Income_21k-30k', 'Income_31k-50k', 'Income_50k Above', 'y_predict']\n",
      "   Age  Gender_F  Gender_M  Occupation_Business  Occupation_Govt  \\\n",
      "0   39         0         1                    0                0   \n",
      "1   82         0         1                    0                0   \n",
      "2   63         1         0                    0                0   \n",
      "3   85         0         1                    1                0   \n",
      "4   60         1         0                    1                0   \n",
      "\n",
      "   Occupation_Housewife  Occupation_Software  Income_0-10k  Income_11k-20k  \\\n",
      "0                     0                    1             0               0   \n",
      "1                     1                    0             0               0   \n",
      "2                     0                    1             0               0   \n",
      "3                     0                    0             1               0   \n",
      "4                     0                    0             0               0   \n",
      "\n",
      "   Income_21k-30k  Income_31k-50k  Income_50k Above  y_predict  \n",
      "0               1               0                 0          0  \n",
      "1               0               0                 1          0  \n",
      "2               0               0                 1          0  \n",
      "3               0               0                 0          0  \n",
      "4               1               0                 0          0  \n"
     ]
    },
    {
     "data": {
      "image/png": "[encoded data removed]",
      "text/plain": [
       "<matplotlib.figure.Figure at 0x116d58358>"
      ]
     },
     "metadata": {},
     "output_type": "display_data"
    }
   ],
   "source": [
    "X,y,dataset,dataset_cat_dummies = getInOut();\n",
    "#plt.plot(range(len(X_train)), y_train, label=\"train\")\n",
    "#plt.plot(range(len(X_train), len(y_validation) + len(X_train)), y_validation, '-', label=\"test\")\n",
    "#plt.plot(range(len(X_train)), y_train, '--', label=\"prediction train\")\n",
    "\n",
    "#plt.plot(range(len(X_train), len(y_validation) + len(X_train)), predictions, '--',label=\"prediction test\")\n",
    "#print(range(len(X_validation[:,3])))\n",
    "\n",
    "X_train, X_validation, y_train, y_validation = model_selection.train_test_split(X, y, test_size=validation_size, random_state=0)\n",
    "logreg = LogisticRegression()\n",
    "logreg.fit(X_train, y_train)\n",
    "classifier = RandomForestClassifier(n_estimators=15)\n",
    "rfc = classifier.fit(X_train,y_train)\n",
    "predictions = rfc.predict(X_validation)\n",
    "\n",
    "print('X[1:5] : ',X[1:5])\n",
    "#print('predictions',predictions==True)\n",
    "print('dbtype: ',type(X), type(X_validation),type(dataset_cat_dummies))\n",
    "group_by_cf = dataset_cat_dummies.groupby(['Gender_M','Gender_F'])\n",
    "print(group_by_cf.size())\n",
    "plt.plot(range(len(X[1:200])), y[1:200], '--',label=\"actual data\")\n",
    "plt.plot(range(len(X_validation)), predictions, '--',label=\"prediction test\")\n",
    "plt.legend(loc=(1.01, 1))\n",
    "plt.xlabel(\"X\")\n",
    "plt.ylabel(\"Y\")\n",
    "\n",
    "#for col in X_validation.select_dtypes(include=[\"category\"]):\n",
    "#X_validation[col].value_counts().plot(kind='bar')\n",
    "print('shape ',X_validation.shape,y_validation.shape,'\\n',X_validation[0],'\\n',X_validation[1])\n",
    "#X_validation = np.concatenate(X_validation,y_validation) \n",
    "#X_validation = np.hstack([X_validation,y_validation])\n",
    "#X_validation = np.append(X_validation,y_validation)\n",
    "#X_validation = np.column_stack((X_validation,y_validation))\n",
    "#print('\\n',X_validation[0], y_validation[0],X_validation[13])\n",
    "#X_validation = X_validation.reshape(220,13)\n",
    "#print('shape ',X_validation.shape,'\\n','\\n',X_validation[0])\n",
    "\n",
    "#X_validation = X_validation.flatten();\n",
    "#y_validation = y_validation.flatten();\n",
    "#z_concat=[]\n",
    "#z_concat = np.concatenate((X_validation,y_validation),axis=0)\n",
    "#print('after concatenate ',z_concat,'\\n',z_concat.shape,'\\n',z_concat[0],'\\n',z_concat[14])\n",
    "#z_reshape = np.reshape(z_concat,(220,13), order='C')\n",
    "#print('after reshape ',z_reshape.shape,'\\n',z_reshape[0],'\\n',z_reshape[1])\n",
    "\n",
    "\n",
    "#print(X_validation.shape, y_validation.shape)\n",
    "z = np.column_stack((X_validation,y_validation))\n",
    "#print(z.shape,'\\n',z[0],'\\n',z[1])\n",
    "\n",
    "# convert ndarray to dataframe and assign column headers\n",
    "new_col_list = []\n",
    "#print(list(dataset_cat_dummies))\n",
    "new_col_list = list(dataset_cat_dummies)\n",
    "new_col_list.append('y_predict')\n",
    "new_col_list.remove('AadharLinked')\n",
    "#print(new_col_list)\n",
    "new_df = pd.DataFrame.from_records(z,columns=new_col_list)\n",
    "#print(new_df.head(5))\n",
    "new_df = new_df.head(5)\n",
    "for column in new_df:\n",
    "    new_df['Income_0-10k'].value_counts().plot(kind='bar')\n",
    "plt.xlabel('Income_0-10k')\n",
    "plt.ylabel(\"Number of records\")\n",
    "plt.show()"
   ]
  },
  {
   "cell_type": "code",
   "execution_count": null,
   "metadata": {
    "collapsed": true
   },
   "outputs": [],
   "source": [
    "(X,y,dataset,dataset_cat_dummies) = getInOut();\n",
    "#dataset.plot(kind='scatter', x='Age', y='AadharLinked', figsize=(12,8))\n",
    "#plt.show()\n",
    "\n",
    "#for col in dataset_dummies.select_dtypes(include=[\"category\"]):\n",
    "        #dataset_dummies[col].value_counts().plot(kind='bar')\n",
    "dataset['Occupation'].value_counts().plot(kind='bar')\n",
    "dataset['Gender'].value_counts().plot(kind='bar')\n",
    "dataset['Income'].value_counts().plot(kind='bar')\n",
    "plt.show()"
   ]
  },
  {
   "cell_type": "code",
   "execution_count": null,
   "metadata": {
    "collapsed": true
   },
   "outputs": [],
   "source": [
    "X_train, X_validation, y_train, y_validation = model_selection.train_test_split(X, y, test_size=validation_size, random_state=0)\n",
    "print(X_validation.shape, y_validation.shape)\n",
    "z = np.column_stack((X_validation,y_validation))\n",
    "print(z.shape,'\\n',z[0],'\\n',z[1])\n",
    "print(list(dataset))\n",
    "new_df = pd.DataFrame({'input':X_validation.tolist(), 'output':y_validation.tolist()})\n",
    "print(type(z),len(z[:,12]))\n",
    "#dataset_cat_dummies.assign(y_predict=z[:,12])\n",
    "#print(list(new_df),new_df)\n",
    "\n",
    "#print(new_df)\n",
    "new_col_list = []\n",
    "print(list(dataset_cat_dummies))\n",
    "new_col_list = list(dataset_cat_dummies)\n",
    "new_col_list.append('y_predict')\n",
    "new_col_list.remove('AadharLinked')\n",
    "print(new_col_list)\n",
    "#new_df = pd.DataFrame({new_col_list: z.tolist()})\n",
    "new_df = pd.DataFrame.from_records(z,columns=new_col_list)\n",
    "print(new_df)"
   ]
  },
  {
   "cell_type": "code",
   "execution_count": null,
   "metadata": {
    "collapsed": true
   },
   "outputs": [],
   "source": [
    "#plt.clf()\n",
    "#plt.cla()\n",
    "print(X_validation[:,3])\n",
    "ax1.plot(X_validation[:,3],predictions,'b',label='Aadhar Linking')\n",
    "ax1.set_title('Testing')\n",
    "ax1 = plt.subplot2grid((5,10),(0,0),rowspan=5, colspan=10)\n",
    "ax1.scatter(X_validation[:,3],predictions)\n",
    "ax.set_xlabel('X-Income')\n",
    "ax.set_ylabel('Aadharlinked')\n",
    "#plt.sca(ax[1, 1])\n",
    "plt.xticks(range(5), ['Income_0-10k', 'Income_11-20k', 'Income_21-30k','Income_31-50k','Income_50k Above'], color='red')\n",
    "\n",
    "plt.show()"
   ]
  }
 ],
 "metadata": {
  "kernelspec": {
   "display_name": "Python 3",
   "language": "python",
   "name": "python3"
  },
  "language_info": {
   "codemirror_mode": {
    "name": "ipython",
    "version": 3
   },
   "file_extension": ".py",
   "mimetype": "text/x-python",
   "name": "python",
   "nbconvert_exporter": "python",
   "pygments_lexer": "ipython3",
   "version": "3.6.1"
  }
 },
 "nbformat": 4,
 "nbformat_minor": 2
}
